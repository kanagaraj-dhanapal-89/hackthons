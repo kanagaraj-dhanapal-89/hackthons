{
 "cells": [
  {
   "cell_type": "markdown",
   "id": "65c926ec-2294-4f5e-b3ba-8ab137ebeb38",
   "metadata": {},
   "source": [
    "# Overview\n",
    "   ### 1) Interest-based recommendations\n",
    "   ### 2) Recommendations based on past purchase\n",
    "   ### 3) Items frequenty bought together\n",
    "   ### 4) Items frequenty viwed together\n",
    "   ### 5) Card Based recommendations\n",
    "   ### 6) Popular viewed items\n",
    "   ### 7) Best seller recomendation\n",
    "   ### 8) Targetting ads recommendations \n",
    "   ### 9) Special event recommendations"
   ]
  },
  {
   "cell_type": "markdown",
   "id": "2f9d6db8-e19f-4304-9199-8db6bf1045da",
   "metadata": {
    "tags": []
   },
   "source": [
    "# Interest-based ADs\n",
    " ### ALS - Algoritham will Recommends the products based on similar interest or tastes"
   ]
  },
  {
   "cell_type": "code",
   "execution_count": 2,
   "id": "5c77459c-1c79-46b8-a659-fe3f708dca36",
   "metadata": {},
   "outputs": [],
   "source": [
    "# Library imports\n",
    "from pyspark.sql import SparkSession\n",
    "from pyspark.sql.types import *\n",
    "from pyspark.sql.functions import *\n",
    "from pyspark.sql.window import Window\n",
    "from pyspark.ml.evaluation import RegressionEvaluator\n",
    "from pyspark.ml.recommendation import ALS\n"
   ]
  },
  {
   "cell_type": "code",
   "execution_count": 3,
   "id": "1b627bb6-0912-4b41-9907-1c6324700c4a",
   "metadata": {},
   "outputs": [
    {
     "name": "stderr",
     "output_type": "stream",
     "text": [
      "Using Spark's default log4j profile: org/apache/spark/log4j-defaults.properties\n",
      "Setting default log level to \"WARN\".\n",
      "To adjust logging level use sc.setLogLevel(newLevel). For SparkR, use setLogLevel(newLevel).\n",
      "22/05/17 11:14:24 WARN NativeCodeLoader: Unable to load native-hadoop library for your platform... using builtin-java classes where applicable\n"
     ]
    }
   ],
   "source": [
    "# Spark session initialize \n",
    "spark = SparkSession.builder.master(\"local[*]\").getOrCreate()"
   ]
  },
  {
   "cell_type": "code",
   "execution_count": 3,
   "id": "6715774a-3624-44d6-8ce4-75dfcd4dc812",
   "metadata": {},
   "outputs": [],
   "source": [
    "# Sample data for user ratings Initialization\n",
    "ratings_input_file_path = \"/Users/k0d04mr/dev/Applications/notebooks/data/ratings_Electronics.csv\"\n",
    "ratins_cleaned_dataset_path = \"/Users/k0d04mr/dev/Applications/notebooks/data/cleaned/\""
   ]
  },
  {
   "cell_type": "code",
   "execution_count": 4,
   "id": "16540c9c-e805-4c35-ab4f-1aa00152b26d",
   "metadata": {},
   "outputs": [
    {
     "name": "stderr",
     "output_type": "stream",
     "text": [
      "                                                                                \r"
     ]
    },
    {
     "name": "stdout",
     "output_type": "stream",
     "text": [
      "ratings count 7824482\n",
      "+--------------+-----------+-------+----------+\n",
      "|      userName|productName|ratings| timestamp|\n",
      "+--------------+-----------+-------+----------+\n",
      "| AKM1MP6P0OYPR| 0132793040|    5.0|1365811200|\n",
      "|A2CX7LUOHB2NDG| 0321732944|    5.0|1341100800|\n",
      "|A2NWSAGRHCP8N5| 0439886341|    1.0|1367193600|\n",
      "|A2WNBOD3WNDNKT| 0439886341|    3.0|1374451200|\n",
      "|A1GI0U4ZRJA8WN| 0439886341|    1.0|1334707200|\n",
      "|A1QGNMC6O1VW39| 0511189877|    5.0|1397433600|\n",
      "|A3J3BRHTDRFJ2G| 0511189877|    2.0|1397433600|\n",
      "|A2TY0BTJOTENPG| 0511189877|    5.0|1395878400|\n",
      "|A34ATBPOK6HCHY| 0511189877|    5.0|1395532800|\n",
      "| A89DO69P0XZ27| 0511189877|    5.0|1395446400|\n",
      "| AZYNQZ94U6VDB| 0511189877|    5.0|1401321600|\n",
      "|A1DA3W4GTFXP6O| 0528881469|    5.0|1405641600|\n",
      "|A29LPQQDG7LD5J| 0528881469|    1.0|1352073600|\n",
      "| AO94DHGC771SJ| 0528881469|    5.0|1370131200|\n",
      "| AMO214LNFCEI4| 0528881469|    1.0|1290643200|\n",
      "|A28B1G1MSJ6OO1| 0528881469|    4.0|1280016000|\n",
      "|A3N7T0DY83Y4IG| 0528881469|    3.0|1283990400|\n",
      "|A1H8PY3QHMQQA0| 0528881469|    2.0|1290556800|\n",
      "| A2CPBQ5W4OGBX| 0528881469|    2.0|1277078400|\n",
      "|A265MKAR2WEH3Y| 0528881469|    4.0|1294790400|\n",
      "+--------------+-----------+-------+----------+\n",
      "only showing top 20 rows\n",
      "\n"
     ]
    }
   ],
   "source": [
    "# Reading  sample data for user ratings for products \n",
    "\n",
    "schema = StructType(\n",
    "    [\n",
    "      StructField(\"userName\",StringType()),\n",
    "      StructField(\"productName\",StringType()),\n",
    "      StructField(\"ratings\",DoubleType()),\n",
    "      StructField(\"timestamp\",LongType())\n",
    "    ]\n",
    ")       \n",
    "raw_ratings_df = spark.read.format(\"csv\").schema(schema).load(ratings_input_file_path)\n",
    "\n",
    "print(\"ratings count\", raw_ratings_df.count())\n",
    "raw_ratings_df.show()"
   ]
  },
  {
   "cell_type": "code",
   "execution_count": 5,
   "id": "6bd8268c-9fbf-44ae-8b63-3d8933d66eab",
   "metadata": {},
   "outputs": [
    {
     "name": "stderr",
     "output_type": "stream",
     "text": [
      "                                                                                \r"
     ]
    },
    {
     "name": "stdout",
     "output_type": "stream",
     "text": [
      "count of rows where users rated above 50: 125871\n"
     ]
    },
    {
     "name": "stderr",
     "output_type": "stream",
     "text": [
      "[Stage 10:==============>                                         (4 + 12) / 16]\r"
     ]
    },
    {
     "name": "stdout",
     "output_type": "stream",
     "text": [
      "+--------------+-----------+-------+----------+----------+\n",
      "|      userName|productName|ratings| timestamp|user_count|\n",
      "+--------------+-----------+-------+----------+----------+\n",
      "|A100UD67AHFODS| B00004Z5M1|      5|1350086400|       116|\n",
      "|A100UD67AHFODS| B00005T3X7|      5|1354665600|       116|\n",
      "|A100UD67AHFODS| B000069EUW|      5|1351814400|       116|\n",
      "|A100UD67AHFODS| B000069JWX|      1|1070841600|       116|\n",
      "|A100UD67AHFODS| B0000AR0I4|      5|1353369600|       116|\n",
      "|A100UD67AHFODS| B0001D3K8A|      5|1150588800|       116|\n",
      "|A100UD67AHFODS| B000233WJ6|      5|1369267200|       116|\n",
      "|A100UD67AHFODS| B0002HJGUQ|      5|1360454400|       116|\n",
      "|A100UD67AHFODS| B0002KVQBA|      5|1360886400|       116|\n",
      "|A100UD67AHFODS| B0002SQ2P2|      5|1150588800|       116|\n",
      "|A100UD67AHFODS| B000ERAOL4|      5|1350086400|       116|\n",
      "|A100UD67AHFODS| B000H0K8VY|      5|1364947200|       116|\n",
      "|A100UD67AHFODS| B000HZDF8W|      5|1356134400|       116|\n",
      "|A100UD67AHFODS| B000J0072M|      3|1356134400|       116|\n",
      "|A100UD67AHFODS| B000LRMS66|      5|1350518400|       116|\n",
      "|A100UD67AHFODS| B000OMKR8E|      2|1351900800|       116|\n",
      "|A100UD67AHFODS| B000Q8UAWY|      5|1361836800|       116|\n",
      "|A100UD67AHFODS| B000QSOP0M|      5|1351728000|       116|\n",
      "|A100UD67AHFODS| B000RYS3S0|      3|1350000000|       116|\n",
      "|A100UD67AHFODS| B000ST9BEO|      1|1356134400|       116|\n",
      "+--------------+-----------+-------+----------+----------+\n",
      "only showing top 20 rows\n",
      "\n"
     ]
    },
    {
     "name": "stderr",
     "output_type": "stream",
     "text": [
      "                                                                                \r"
     ]
    }
   ],
   "source": [
    "# Keeping  users who have rated frequently \n",
    "\n",
    "## To make better descision \n",
    "## we are including users who bought and rated more than 50 items\n",
    "\n",
    "filteredRatingsDF = raw_ratings_df.select(\n",
    "    \"*\",\n",
    "    sum(lit(1)).over(Window.partitionBy(\"userName\")).alias(\"user_count\"),\n",
    ").filter(\n",
    "        col(\"user_count\") >= 50\n",
    ").withColumn(\n",
    "    \"ratings\", col(\"ratings\").cast(IntegerType())\n",
    ")\n",
    "print(\"count of rows where users rated above 50:\", filteredRatingsDF.count())\n",
    "filteredRatingsDF.show()\n",
    "\n"
   ]
  },
  {
   "cell_type": "code",
   "execution_count": 20,
   "id": "264056d8-137d-479f-953d-fc7837224c02",
   "metadata": {},
   "outputs": [
    {
     "name": "stderr",
     "output_type": "stream",
     "text": [
      "                                                                                \r"
     ]
    },
    {
     "name": "stdout",
     "output_type": "stream",
     "text": [
      "+-------+-------------------+--------------+----------------+-------------------+------------------+------------------+------------------+\n",
      "|summary|        productName|      userName|         ratings|          timestamp|        user_count|            userId|         productId|\n",
      "+-------+-------------------+--------------+----------------+-------------------+------------------+------------------+------------------+\n",
      "|  count|             125871|        125871|          125871|             125871|            125871|            125871|            125871|\n",
      "|   mean|5.134991108953125E9|          null|4.26133898991825|  1.3219790174512E9|107.99077627094407|  775.465071382606|15068.817503634673|\n",
      "| stddev|4.215136210727178E9|          null|1.06214410824082|7.583598570410088E7| 78.10278159362238|449.20511305159215|13192.368850961084|\n",
      "|    min|         0594451647|A100UD67AHFODS|               1|          939600000|                50|                 1|                 1|\n",
      "|    25%|      1.400501776E9|          null|               4|         1286928000|                60|               382|              4260|\n",
      "|    50%|      1.400698987E9|          null|               5|         1346716800|                79|               764|             10518|\n",
      "|    75%|      9.981739588E9|          null|               5|         1377129600|               119|              1176|             23723|\n",
      "|    max|         B00LKG1MC8| AZOK5STV85FBJ|               5|         1406073600|               520|              1540|             48190|\n",
      "+-------+-------------------+--------------+----------------+-------------------+------------------+------------------+------------------+\n",
      "\n"
     ]
    },
    {
     "name": "stderr",
     "output_type": "stream",
     "text": [
      "                                                                                \r"
     ]
    }
   ],
   "source": [
    "# Creating userid and productID column \n",
    "userId_df = filteredRatingsDF.select(\"userName\").dropDuplicates().coalesce(1).withColumn(\"userId\", monotonically_increasing_id() + 1)\n",
    "productId_df = filteredRatingsDF.select(\"productName\").dropDuplicates().coalesce(1).withColumn(\"productId\", monotonically_increasing_id() + 1)\n",
    "userIdJoindDF = filteredRatingsDF.join(userId_df, on=\"userName\", how=\"inner\")\n",
    "cleanedDF = userIdJoindDF.join(productId_df, on=\"productName\", how=\"inner\")\n",
    "cleanedDF.summary().show()\n",
    "\n",
    "# Writing cleaned dataset into disk\n",
    "cleanedDF.coalesce(1).write.format(\"csv\").mode(\"overwrite\").option(\"header\", \"true\").save(ratins_cleaned_dataset_path)"
   ]
  },
  {
   "cell_type": "code",
   "execution_count": 21,
   "id": "e5484b5a-fe17-433b-9d37-2f5f379780ff",
   "metadata": {},
   "outputs": [
    {
     "name": "stdout",
     "output_type": "stream",
     "text": [
      "+-----------+--------------+-------+----------+----------+------+---------+\n",
      "|productName|      userName|ratings| timestamp|user_count|userId|productId|\n",
      "+-----------+--------------+-------+----------+----------+------+---------+\n",
      "| B00004Z5M1|A100UD67AHFODS|      5|1350086400|       116|     1|     2272|\n",
      "| B00005T3X7|A100UD67AHFODS|      5|1354665600|       116|     1|     5072|\n",
      "| B000069EUW|A100UD67AHFODS|      5|1351814400|       116|     1|     2407|\n",
      "| B000069JWX|A100UD67AHFODS|      1|1070841600|       116|     1|     1049|\n",
      "| B0000AR0I4|A100UD67AHFODS|      5|1353369600|       116|     1|      397|\n",
      "| B0001D3K8A|A100UD67AHFODS|      5|1150588800|       116|     1|     4296|\n",
      "| B000233WJ6|A100UD67AHFODS|      5|1369267200|       116|     1|     5802|\n",
      "| B0002HJGUQ|A100UD67AHFODS|      5|1360454400|       116|     1|     3620|\n",
      "| B0002KVQBA|A100UD67AHFODS|      5|1360886400|       116|     1|     1217|\n",
      "| B0002SQ2P2|A100UD67AHFODS|      5|1150588800|       116|     1|     4492|\n",
      "| B000ERAOL4|A100UD67AHFODS|      5|1350086400|       116|     1|     1329|\n",
      "| B000H0K8VY|A100UD67AHFODS|      5|1364947200|       116|     1|     6467|\n",
      "| B000HZDF8W|A100UD67AHFODS|      5|1356134400|       116|     1|     5007|\n",
      "| B000J0072M|A100UD67AHFODS|      3|1356134400|       116|     1|      272|\n",
      "| B000LRMS66|A100UD67AHFODS|      5|1350518400|       116|     1|      132|\n",
      "| B000OMKR8E|A100UD67AHFODS|      2|1351900800|       116|     1|     3772|\n",
      "| B000Q8UAWY|A100UD67AHFODS|      5|1361836800|       116|     1|     1509|\n",
      "| B000QSOP0M|A100UD67AHFODS|      5|1351728000|       116|     1|     2169|\n",
      "| B000RYS3S0|A100UD67AHFODS|      3|1350000000|       116|     1|     1571|\n",
      "| B000ST9BEO|A100UD67AHFODS|      1|1356134400|       116|     1|     1485|\n",
      "+-----------+--------------+-------+----------+----------+------+---------+\n",
      "only showing top 20 rows\n",
      "\n"
     ]
    }
   ],
   "source": [
    "# Reading products summary rating data \n",
    "\n",
    "ratings_df = spark.read.format(\"csv\").option(\"inferSchema\", \"true\").option(\"header\", \"true\").load(ratins_cleaned_dataset_path)\n",
    "ratings_df.show()"
   ]
  },
  {
   "cell_type": "code",
   "execution_count": 8,
   "id": "57722899-a949-46c4-9f06-6334b0fda111",
   "metadata": {},
   "outputs": [],
   "source": [
    "# Splitting the data into 2 for training through als algo and testing using random split \n",
    "(trainingDF, testDF) = ratings_df.randomSplit([0.8, 0.2])"
   ]
  },
  {
   "cell_type": "code",
   "execution_count": 9,
   "id": "faa6c4de-66eb-46e3-9ebb-9f116e85899e",
   "metadata": {},
   "outputs": [
    {
     "name": "stderr",
     "output_type": "stream",
     "text": [
      "22/05/14 18:26:38 WARN InstanceBuilder$NativeBLAS: Failed to load implementation from:dev.ludovic.netlib.blas.JNIBLAS\n",
      "22/05/14 18:26:38 WARN InstanceBuilder$NativeBLAS: Failed to load implementation from:dev.ludovic.netlib.blas.ForeignLinkerBLAS\n",
      "22/05/14 18:26:38 WARN InstanceBuilder$NativeLAPACK: Failed to load implementation from:dev.ludovic.netlib.lapack.JNILAPACK\n"
     ]
    }
   ],
   "source": [
    "# Training the model using als algo\n",
    "als = ALS(\n",
    "    maxIter=5, \n",
    "    regParam=0.01, \n",
    "    userCol=\"userId\", \n",
    "    itemCol=\"productId\", \n",
    "    ratingCol=\"ratings\",\n",
    "    implicitPrefs=True,\n",
    "    coldStartStrategy=\"drop\"\n",
    ")\n",
    "model = als.fit(trainingDF)"
   ]
  },
  {
   "cell_type": "code",
   "execution_count": 10,
   "id": "42c27d12-1177-40c1-bc45-0bd9cb01bc9a",
   "metadata": {},
   "outputs": [
    {
     "name": "stderr",
     "output_type": "stream",
     "text": [
      "                                                                                \r"
     ]
    },
    {
     "name": "stdout",
     "output_type": "stream",
     "text": [
      "Root-mean-square error = 2.8970318109809927\n"
     ]
    }
   ],
   "source": [
    "# Evaluate the model accuracy by computing error on test data  \n",
    "predictions = model.transform(testDF)\n",
    "evaluator = RegressionEvaluator(metricName=\"rmse\", labelCol=\"ratings\",\n",
    "                                predictionCol=\"prediction\")\n",
    "rmse = evaluator.evaluate(predictions)\n",
    "print(\"Root-mean-square error = \" + str(rmse))"
   ]
  },
  {
   "cell_type": "code",
   "execution_count": 25,
   "id": "c7f99681-68e0-43ab-8b1c-3177ffc46136",
   "metadata": {},
   "outputs": [
    {
     "name": "stderr",
     "output_type": "stream",
     "text": [
      "/Users/k0d04mr/Library/Python/3.8/lib/python/site-packages/pyspark/sql/context.py:125: FutureWarning: Deprecated in 3.0.0. Use SparkSession.builder.getOrCreate() instead.\n",
      "  warnings.warn(\n",
      "[Stage 424:==========================================>          (80 + 16) / 100]\r"
     ]
    },
    {
     "name": "stdout",
     "output_type": "stream",
     "text": [
      "+------+--------------------+\n",
      "|userId|recommendations     |\n",
      "+------+--------------------+\n",
      "|1     |[{17759, 10.529773}]|\n",
      "|3     |[{1369, 9.224239}]  |\n",
      "|6     |[{26775, 9.756778}] |\n",
      "|12    |[{564, 11.828667}]  |\n",
      "|13    |[{17695, 11.306157}]|\n",
      "|16    |[{19600, 8.861739}] |\n",
      "|20    |[{14377, 10.893919}]|\n",
      "|22    |[{16022, 10.94829}] |\n",
      "|26    |[{21647, 10.295612}]|\n",
      "|27    |[{23726, 8.875915}] |\n",
      "+------+--------------------+\n",
      "only showing top 10 rows\n",
      "\n"
     ]
    },
    {
     "name": "stderr",
     "output_type": "stream",
     "text": [
      "                                                                                \r"
     ]
    }
   ],
   "source": [
    "# Recommending the product for each user \n",
    "userRecs = model.recommendForAllUsers(1)\n",
    "userRecs.show(10, False)"
   ]
  },
  {
   "cell_type": "code",
   "execution_count": 19,
   "id": "e88d5a99-e6ce-4232-bbf2-1f42d901a03e",
   "metadata": {},
   "outputs": [
    {
     "name": "stderr",
     "output_type": "stream",
     "text": [
      "                                                                                \r"
     ]
    },
    {
     "name": "stdout",
     "output_type": "stream",
     "text": [
      "+--------------+-----------------------+\n",
      "|userName      |recomendatedProductName|\n",
      "+--------------+-----------------------+\n",
      "|A105S56ODHGJEK|B00BCGRTFK             |\n",
      "|A10Y058K7B96C6|B000AYJDD6             |\n",
      "|A12LH2100CKQO |B0026SKZO0             |\n",
      "|A1CST2WUA32GP0|B002LITT56             |\n",
      "|A1DQHS7MOVYYYA|B0002RBQO0             |\n",
      "|A1K4G5YJDJQI6Q|B004QQY2JO             |\n",
      "|A1SFPA80X7TRBR|B001212ELY             |\n",
      "|A1URXSRV6WDHVY|B004XW2NEW             |\n",
      "|A1ZVFCPHCWFV71|B001N9X4CS             |\n",
      "|A20DDH4NT6Q1E8|B0098Y77U0             |\n",
      "+--------------+-----------------------+\n",
      "only showing top 10 rows\n",
      "\n"
     ]
    }
   ],
   "source": [
    "# joining back with ratings data set to get the actual user name and product name \n",
    "\n",
    "flattendRecDf = userRecs.withColumn(\n",
    "    \"recommendations\", explode(\"recommendations\")\n",
    ").withColumn(\n",
    "    \"productId\", col(\"recommendations.productId\")\n",
    ")\n",
    "flattenUserIdJoinedDF = flattendRecDf.join(\n",
    "    ratings_df.select(\n",
    "        \"userId\",\n",
    "        \"userName\"\n",
    "    ).dropDuplicates(), \n",
    "    on=\"userId\", \n",
    "    how=\"inner\"\n",
    ").join(\n",
    "    ratings_df.select(\n",
    "        \"productName\",\n",
    "        \"productId\"\n",
    "    ).dropDuplicates(),\n",
    "    on=\"productId\", \n",
    "    how=\"inner\"\n",
    ").select(\n",
    "    col(\"userName\"),\n",
    "    col(\"productName\").alias(\"recomendatedProductName\")\n",
    ")\n",
    "# finalJoinedDF.show(100, False)\n",
    "\n",
    "flattenUserIdJoinedDF.show(10, False)"
   ]
  },
  {
   "cell_type": "code",
   "execution_count": 32,
   "id": "b8eb550b-4eeb-4255-ad61-04c2a0d4bf2f",
   "metadata": {},
   "outputs": [
    {
     "name": "stdout",
     "output_type": "stream",
     "text": [
      "+------+------------------------------------------------------------------------------------------+\n",
      "|userId|recommendations                                                                           |\n",
      "+------+------------------------------------------------------------------------------------------+\n",
      "|100   |[{7349, 9.862763}, {5623, 8.93787}, {8946, 8.914307}, {1008, 8.304108}, {10150, 8.182521}]|\n",
      "+------+------------------------------------------------------------------------------------------+\n",
      "\n"
     ]
    }
   ],
   "source": [
    "# Recommeding product for a user \n",
    "userId = 100\n",
    "numberOfRecommendationsNeeded = 5\n",
    "userRecs = model.recommendForUserSubset(ratings_df.where(col(\"userId\") == userId), numberOfRecommendationsNeeded)\n",
    "userRecs.show(5, False)"
   ]
  },
  {
   "cell_type": "markdown",
   "id": "b1c35593-2dbb-4771-b621-4cf6b4456cf7",
   "metadata": {},
   "source": [
    "# Summary of Interest based Ads\n",
    " ## ALS will give us the interested product names, we have to play the Ads on the screen for the same.\n",
    " # --------------------------------**--------------------------------"
   ]
  },
  {
   "cell_type": "markdown",
   "id": "39895a66-4bd1-47f7-b002-28f6d3d2d1b8",
   "metadata": {
    "tags": []
   },
   "source": [
    "# Loading orders data "
   ]
  },
  {
   "cell_type": "code",
   "execution_count": 4,
   "id": "cd161cda-e590-47d2-93bd-8ede3f4d81f5",
   "metadata": {},
   "outputs": [
    {
     "name": "stderr",
     "output_type": "stream",
     "text": [
      "                                                                                \r"
     ]
    }
   ],
   "source": [
    "# input paths\n",
    "basePath = \"/Users/k0d04mr/dev/Applications/notebooks/data\"\n",
    "events_df = spark.read.format(\"csv\").option(\"inferSchema\", \"true\").option(\"header\", \"true\").load(basePath + \"/events.csv\")\n",
    "category_tree_df = spark.read.format(\"csv\").option(\"inferSchema\", \"true\").option(\"header\", \"true\").load(basePath + \"/category_tree.csv\")\n",
    "item_properties_1_df = spark.read.format(\"csv\").option(\"inferSchema\", \"true\").option(\"header\", \"true\").load(basePath + \"/item_properties_part1.csv\")\n",
    "item_properties_2_df =  spark.read.format(\"csv\").option(\"inferSchema\", \"true\").option(\"header\", \"true\").load(basePath + \"/item_properties_part2.csv\")"
   ]
  },
  {
   "cell_type": "code",
   "execution_count": 4,
   "id": "98702e9d-b3cb-4ef0-a623-cbadee6977f9",
   "metadata": {},
   "outputs": [
    {
     "name": "stdout",
     "output_type": "stream",
     "text": [
      "+-------------+---------+-----+------+-------------+\n",
      "|timestamp    |visitorid|event|itemid|transactionid|\n",
      "+-------------+---------+-----+------+-------------+\n",
      "|1433221332117|257597   |view |355908|null         |\n",
      "|1433224214164|992329   |view |248676|null         |\n",
      "|1433221999827|111016   |view |318965|null         |\n",
      "|1433221955914|483717   |view |253185|null         |\n",
      "|1433221337106|951259   |view |367447|null         |\n",
      "|1433224086234|972639   |view |22556 |null         |\n",
      "|1433221923240|810725   |view |443030|null         |\n",
      "|1433223291897|794181   |view |439202|null         |\n",
      "|1433220899221|824915   |view |428805|null         |\n",
      "|1433221204592|339335   |view |82389 |null         |\n",
      "+-------------+---------+-----+------+-------------+\n",
      "only showing top 10 rows\n",
      "\n"
     ]
    }
   ],
   "source": [
    "# events data sample\n",
    "events_df.show(10, False)"
   ]
  },
  {
   "cell_type": "code",
   "execution_count": 5,
   "id": "d302caf0-ebb1-4ba5-9fe2-27af8dd91a68",
   "metadata": {},
   "outputs": [
    {
     "name": "stdout",
     "output_type": "stream",
     "text": [
      "+----------+--------+\n",
      "|categoryid|parentid|\n",
      "+----------+--------+\n",
      "|1016      |213     |\n",
      "|809       |169     |\n",
      "|570       |9       |\n",
      "|1691      |885     |\n",
      "|536       |1691    |\n",
      "|231       |null    |\n",
      "|542       |378     |\n",
      "|1146      |542     |\n",
      "|1140      |542     |\n",
      "|1479      |1537    |\n",
      "+----------+--------+\n",
      "only showing top 10 rows\n",
      "\n"
     ]
    }
   ],
   "source": [
    "# category data sample\n",
    "category_tree_df.show(10, False)"
   ]
  },
  {
   "cell_type": "code",
   "execution_count": 6,
   "id": "a703a3f1-be4e-4b3a-b17a-713f0be5380b",
   "metadata": {},
   "outputs": [
    {
     "name": "stdout",
     "output_type": "stream",
     "text": [
      "+-------------+------+----------+-------------------------------+\n",
      "|timestamp    |itemid|property  |value                          |\n",
      "+-------------+------+----------+-------------------------------+\n",
      "|1435460400000|460429|categoryid|1338                           |\n",
      "|1441508400000|206783|888       |1116713 960601 n277.200        |\n",
      "|1439089200000|395014|400       |n552.000 639502 n720.000 424566|\n",
      "|1431226800000|59481 |790       |n15360.000                     |\n",
      "|1431831600000|156781|917       |828513                         |\n",
      "|1436065200000|285026|available |0                              |\n",
      "|1434250800000|89534 |213       |1121373                        |\n",
      "|1431831600000|264312|6         |319724                         |\n",
      "|1433646000000|229370|202       |1330310                        |\n",
      "|1434250800000|98113 |451       |1141052 n48.000                |\n",
      "+-------------+------+----------+-------------------------------+\n",
      "only showing top 10 rows\n",
      "\n"
     ]
    }
   ],
   "source": [
    "# item_properties_1 sample\n",
    "\n",
    "item_properties_1_df.show(10, False)"
   ]
  },
  {
   "cell_type": "code",
   "execution_count": 7,
   "id": "bcd394b4-6e45-4130-aa9b-19d3183c9ebc",
   "metadata": {},
   "outputs": [
    {
     "name": "stdout",
     "output_type": "stream",
     "text": [
      "+-------------+------+--------+-------------------------------------------------------------------------------------------------------------------------------------------------------------------------------------------------------------------------------------------------------------------------------------------------------------+\n",
      "|timestamp    |itemid|property|value                                                                                                                                                                                                                                                                                                        |\n",
      "+-------------+------+--------+-------------------------------------------------------------------------------------------------------------------------------------------------------------------------------------------------------------------------------------------------------------------------------------------------------------+\n",
      "|1433041200000|183478|561     |769062                                                                                                                                                                                                                                                                                                       |\n",
      "|1439694000000|132256|976     |n26.400 1135780                                                                                                                                                                                                                                                                                              |\n",
      "|1435460400000|420307|921     |1149317 1257525                                                                                                                                                                                                                                                                                              |\n",
      "|1431831600000|403324|917     |1204143                                                                                                                                                                                                                                                                                                      |\n",
      "|1435460400000|230701|521     |769062                                                                                                                                                                                                                                                                                                       |\n",
      "|1433041200000|286407|202     |820407                                                                                                                                                                                                                                                                                                       |\n",
      "|1438484400000|256368|888     |437265 1296497 n24.000 229949 651738 285933                                                                                                                                                                                                                                                                  |\n",
      "|1437879600000|307534|888     |150169 212349 1095303 824508 1257235 153900                                                                                                                                                                                                                                                                  |\n",
      "|1439089200000|102767|888     |5135 790941 1055803 221748 122132 n12.000 1135780 1284577 n139.200 1284577 n16392.000 628176 n9216.000 134030 1284577 n48.000 1187104 1284577 n12.000 1175087 n6000.000 1187104 1284577 1186729 769062 1284577 1055803 1164666 625815 n98520.000 1284577 1141052 n48.000 288796 1284577 814297 670753 n96.000|\n",
      "|1431831600000|215180|71      |1096621                                                                                                                                                                                                                                                                                                      |\n",
      "+-------------+------+--------+-------------------------------------------------------------------------------------------------------------------------------------------------------------------------------------------------------------------------------------------------------------------------------------------------------------+\n",
      "only showing top 10 rows\n",
      "\n"
     ]
    }
   ],
   "source": [
    "# item_properties_2 sample\n",
    "item_properties_2_df.show(10, False)"
   ]
  },
  {
   "cell_type": "code",
   "execution_count": 8,
   "id": "bd51bee3-4504-44b0-ad02-2eab6279e328",
   "metadata": {},
   "outputs": [
    {
     "name": "stderr",
     "output_type": "stream",
     "text": [
      "[Stage 12:>                                                       (0 + 16) / 16]\r"
     ]
    },
    {
     "name": "stdout",
     "output_type": "stream",
     "text": [
      "+---------+------+-----+\n",
      "|visitorid|itemid|count|\n",
      "+---------+------+-----+\n",
      "|152963   |119736|14   |\n",
      "+---------+------+-----+\n",
      "\n"
     ]
    },
    {
     "name": "stderr",
     "output_type": "stream",
     "text": [
      "                                                                                \r"
     ]
    }
   ],
   "source": [
    "events_df.filter(\n",
    "    col(\"transactionid\").isNotNull()\n",
    ").groupBy(\n",
    "    \"visitorid\",\n",
    "    \"itemid\"\n",
    ").count().filter(\n",
    "    col(\"count\") > 10\n",
    ").show(10, False)\n",
    "\n",
    "    "
   ]
  },
  {
   "cell_type": "markdown",
   "id": "f28c7396-0c4e-4edd-a1ae-8e3f912f1677",
   "metadata": {},
   "source": [
    " # --------------------------------**--------------------------------"
   ]
  },
  {
   "cell_type": "markdown",
   "id": "6655adfd-564b-4eff-a944-27d92a7a5ecb",
   "metadata": {
    "tags": []
   },
   "source": [
    "# Recommendations based on past purchase\n",
    "   ## 1) Based on frequently buying products from their purchase history\n",
    "   ## 2) Randomly selecting the prodcuts from their purchase history"
   ]
  },
  {
   "cell_type": "markdown",
   "id": "9af66195-932c-4665-b530-4f0f4f0c0a23",
   "metadata": {
    "tags": []
   },
   "source": [
    "## 1) Based on frequently buying products from their purchase history"
   ]
  },
  {
   "cell_type": "code",
   "execution_count": 9,
   "id": "e2df9c59-244a-4528-b11d-4d4d837cfdd1",
   "metadata": {},
   "outputs": [],
   "source": [
    "# Select User to recommend the prodcuts \n",
    "visitorid = 152963"
   ]
  },
  {
   "cell_type": "code",
   "execution_count": 10,
   "id": "de49fc5c-a362-452f-9d99-7d3b0521dfda",
   "metadata": {},
   "outputs": [],
   "source": [
    "filteredUserDataDF = events_df.filter(col(\"visitorid\") == visitorid).filter(col(\"transactionid\").isNotNull())"
   ]
  },
  {
   "cell_type": "code",
   "execution_count": 11,
   "id": "f2da0e86-c402-42e4-9be5-da6d9ab8dba2",
   "metadata": {},
   "outputs": [],
   "source": [
    "# Finding how frequently product is bought \n",
    "frequentlyboughtItemsDf = filteredUserDataDF.select(\n",
    "    col(\"*\"),\n",
    "    sum(lit(1)).over(Window.partitionBy(col(\"itemid\"))).alias(\"number_of_times_bought\"),\n",
    "    (col(\"timestamp\") - lag(col(\"timestamp\"), 1).over(Window.partitionBy(\"itemid\").orderBy(\"timestamp\"))).alias(\"freq\")\n",
    ").filter(\n",
    "    col(\"freq\").isNotNull()\n",
    ").withColumn(\n",
    "    \"freq_avg\", avg(\"freq\").over(Window.partitionBy(\"itemid\"))\n",
    ").withColumn(\n",
    "    \"nextCycleTimeStamp\", from_unixtime(((col(\"timestamp\") + col(\"freq_avg\")) / 1000).cast(LongType())\n",
    "                                        )\n",
    ").withColumn(\n",
    "    \"current_timestamp\", from_unixtime(unix_timestamp())\n",
    ")\n"
   ]
  },
  {
   "cell_type": "code",
   "execution_count": 44,
   "id": "7609811a-e3ee-4daf-98dc-82a9a5ddace3",
   "metadata": {},
   "outputs": [
    {
     "name": "stdout",
     "output_type": "stream",
     "text": [
      "+-------------+---------+-----------+------+-------------+----------------------+----------+-------------------+-------------------+-------------------+\n",
      "|    timestamp|visitorid|      event|itemid|transactionid|number_of_times_bought|      freq|           freq_avg| nextCycleTimeStamp|  current_timestamp|\n",
      "+-------------+---------+-----------+------+-------------+----------------------+----------+-------------------+-------------------+-------------------+\n",
      "|1439921960859|   152963|transaction|  9877|        16112|                     2| 956882069|       9.56882069E8|2015-08-30 01:37:22|2022-05-15 07:03:01|\n",
      "|1440029657713|   152963|transaction| 17478|         6781|                     2|    266988|           266988.0|2015-08-20 05:48:44|2022-05-15 07:03:01|\n",
      "|1441735783315|   152963|transaction| 57723|          884|                     2|3094072329|      3.094072329E9|2015-10-14 19:07:35|2022-05-15 07:03:01|\n",
      "|1440775915015|   152963|transaction| 96940|        12881|                     2| 136020945|       1.36020945E8|2015-08-30 10:48:55|2022-05-15 07:03:01|\n",
      "|1439312568859|   152963|transaction|119736|         9410|                    14| 660502725|2.840539259230769E8|2015-08-15 05:27:02|2022-05-15 07:03:01|\n",
      "|1440088860801|   152963|transaction|119736|        15232|                    14| 776291942|2.840539259230769E8|2015-08-24 05:05:14|2022-05-15 07:03:01|\n",
      "|1440191265045|   152963|transaction|119736|         7414|                    14| 102404244|2.840539259230769E8|2015-08-25 09:31:58|2022-05-15 07:03:01|\n",
      "|1440192836276|   152963|transaction|119736|        15986|                    14|   1571231|2.840539259230769E8|2015-08-25 09:58:10|2022-05-15 07:03:01|\n",
      "|1440200832236|   152963|transaction|119736|        10325|                    14|   7995960|2.840539259230769E8|2015-08-25 12:11:26|2022-05-15 07:03:01|\n",
      "|1440522050308|   152963|transaction|119736|        16010|                    14| 321218072|2.840539259230769E8|2015-08-29 05:25:04|2022-05-15 07:03:01|\n",
      "|1440617992249|   152963|transaction|119736|        16567|                    14|  95941941|2.840539259230769E8|2015-08-30 08:04:06|2022-05-15 07:03:01|\n",
      "|1440638365601|   152963|transaction|119736|         7145|                    14|  20373352|2.840539259230769E8|2015-08-30 13:43:39|2022-05-15 07:03:01|\n",
      "|1440701256071|   152963|transaction|119736|         6450|                    14|  62890470|2.840539259230769E8|2015-08-31 07:11:49|2022-05-15 07:03:01|\n",
      "|1440707673523|   152963|transaction|119736|         8870|                    14|   6417452|2.840539259230769E8|2015-08-31 08:58:47|2022-05-15 07:03:01|\n",
      "|1440790127988|   152963|transaction|119736|        16269|                    14|  82454465|2.840539259230769E8|2015-09-01 07:53:01|2022-05-15 07:03:01|\n",
      "|1441834237551|   152963|transaction|119736|        13782|                    14|1044109563|2.840539259230769E8|2015-09-13 09:54:51|2022-05-15 07:03:01|\n",
      "|1442344767171|   152963|transaction|119736|         3481|                    14| 510529620|2.840539259230769E8|2015-09-19 07:43:41|2022-05-15 07:03:01|\n",
      "|1441128373936|   152963|transaction|171427|         9917|                     2|1884706353|      1.884706353E9|2015-09-23 18:28:00|2022-05-15 07:03:01|\n",
      "|1440711013802|   152963|transaction|248455|         9353|                     2| 525584035|       5.25584035E8|2015-09-03 04:59:57|2022-05-15 07:03:01|\n",
      "|1441147173411|   152963|transaction|304839|        15114|                     2| 959641263|       9.59641263E8|2015-09-13 06:43:34|2022-05-15 07:03:01|\n",
      "+-------------+---------+-----------+------+-------------+----------------------+----------+-------------------+-------------------+-------------------+\n",
      "only showing top 20 rows\n",
      "\n"
     ]
    }
   ],
   "source": [
    "frequentlyboughtItemsDf.show()"
   ]
  },
  {
   "cell_type": "code",
   "execution_count": 12,
   "id": "6232f3ad-9949-4821-a135-00fe655a9627",
   "metadata": {},
   "outputs": [
    {
     "name": "stdout",
     "output_type": "stream",
     "text": [
      "+-------------+---------+-----------+------+-------------+----------------------+----------+-------------------+-------------------+-------------------+\n",
      "|timestamp    |visitorid|event      |itemid|transactionid|number_of_times_bought|freq      |freq_avg           |nextCycleTimeStamp |current_timestamp  |\n",
      "+-------------+---------+-----------+------+-------------+----------------------+----------+-------------------+-------------------+-------------------+\n",
      "|1439921960859|152963   |transaction|9877  |16112        |2                     |956882069 |9.56882069E8       |2015-08-30 01:37:22|2022-05-15 07:06:25|\n",
      "|1440029657713|152963   |transaction|17478 |6781         |2                     |266988    |266988.0           |2015-08-20 05:48:44|2022-05-15 07:06:25|\n",
      "|1441735783315|152963   |transaction|57723 |884          |2                     |3094072329|3.094072329E9      |2015-10-14 19:07:35|2022-05-15 07:06:25|\n",
      "|1440775915015|152963   |transaction|96940 |12881        |2                     |136020945 |1.36020945E8       |2015-08-30 10:48:55|2022-05-15 07:06:25|\n",
      "|1439312568859|152963   |transaction|119736|9410         |14                    |660502725 |2.840539259230769E8|2015-08-15 05:27:02|2022-05-15 07:06:25|\n",
      "|1440088860801|152963   |transaction|119736|15232        |14                    |776291942 |2.840539259230769E8|2015-08-24 05:05:14|2022-05-15 07:06:25|\n",
      "|1440191265045|152963   |transaction|119736|7414         |14                    |102404244 |2.840539259230769E8|2015-08-25 09:31:58|2022-05-15 07:06:25|\n",
      "|1440192836276|152963   |transaction|119736|15986        |14                    |1571231   |2.840539259230769E8|2015-08-25 09:58:10|2022-05-15 07:06:25|\n",
      "|1440200832236|152963   |transaction|119736|10325        |14                    |7995960   |2.840539259230769E8|2015-08-25 12:11:26|2022-05-15 07:06:25|\n",
      "|1440522050308|152963   |transaction|119736|16010        |14                    |321218072 |2.840539259230769E8|2015-08-29 05:25:04|2022-05-15 07:06:25|\n",
      "+-------------+---------+-----------+------+-------------+----------------------+----------+-------------------+-------------------+-------------------+\n",
      "only showing top 10 rows\n",
      "\n"
     ]
    }
   ],
   "source": [
    "# Filtring the products whose frequency time is completed\n",
    "recommendatedItemsDF = frequentlyboughtItemsDf.filter(\n",
    "    col(\"nextCycleTimeStamp\") <= col(\"current_timestamp\")\n",
    ")\n",
    "recommendatedItemsDF.show(10, False)"
   ]
  },
  {
   "cell_type": "code",
   "execution_count": 13,
   "id": "62962ca2-b68e-4527-bfce-52a6634df184",
   "metadata": {},
   "outputs": [
    {
     "name": "stderr",
     "output_type": "stream",
     "text": [
      "22/05/15 07:06:30 WARN WindowExec: No Partition Defined for Window operation! Moving all data to a single partition, this can cause serious performance degradation.\n",
      "22/05/15 07:06:30 WARN WindowExec: No Partition Defined for Window operation! Moving all data to a single partition, this can cause serious performance degradation.\n",
      "22/05/15 07:06:30 WARN WindowExec: No Partition Defined for Window operation! Moving all data to a single partition, this can cause serious performance degradation.\n",
      "22/05/15 07:06:31 WARN WindowExec: No Partition Defined for Window operation! Moving all data to a single partition, this can cause serious performance degradation.\n"
     ]
    },
    {
     "name": "stdout",
     "output_type": "stream",
     "text": [
      "+---------+------+----+\n",
      "|visitorid|itemid|rank|\n",
      "+---------+------+----+\n",
      "|152963   |119736|1   |\n",
      "|152963   |320130|2   |\n",
      "|152963   |9877  |3   |\n",
      "|152963   |17478 |3   |\n",
      "|152963   |57723 |3   |\n",
      "|152963   |96940 |3   |\n",
      "|152963   |171427|3   |\n",
      "|152963   |248455|3   |\n",
      "|152963   |304839|3   |\n",
      "|152963   |334401|3   |\n",
      "+---------+------+----+\n",
      "only showing top 10 rows\n",
      "\n"
     ]
    }
   ],
   "source": [
    "# Selecting top 10 products\n",
    "selectingProductByRank = recommendatedItemsDF.select(\n",
    "    col(\"visitorid\"),\n",
    "    col(\"itemid\"),\n",
    "    col(\"number_of_times_bought\")\n",
    ").dropDuplicates().select(\n",
    "    \"*\",\n",
    "    rank().over(Window.orderBy(col(\"number_of_times_bought\").desc())).alias(\"rank\")\n",
    ").filter(\n",
    "    col(\"rank\") <= 10\n",
    ").select(\n",
    "    col(\"visitorid\"),\n",
    "    col(\"itemid\"),\n",
    "    col(\"rank\")\n",
    ")\n",
    "\n",
    "selectingProductByRank.show(10, False)"
   ]
  },
  {
   "cell_type": "markdown",
   "id": "96e50687-d2b9-4d3f-bb68-cb1be10f9074",
   "metadata": {},
   "source": [
    " # --------------------------------**--------------------------------"
   ]
  },
  {
   "cell_type": "markdown",
   "id": "3931b071-1e25-469a-a13f-9d7229b31c3f",
   "metadata": {
    "tags": []
   },
   "source": [
    "# 2) Randomly selecting the prodcuts from their purchase history"
   ]
  },
  {
   "cell_type": "code",
   "execution_count": 23,
   "id": "66e9cce7-6081-46d6-9d91-b0e9baf6c44a",
   "metadata": {},
   "outputs": [
    {
     "name": "stdout",
     "output_type": "stream",
     "text": [
      "+------+\n",
      "|itemid|\n",
      "+------+\n",
      "|104891|\n",
      "|231482|\n",
      "|315919|\n",
      "|373861|\n",
      "|330506|\n",
      "|433305|\n",
      "| 39773|\n",
      "|245168|\n",
      "|375150|\n",
      "|213306|\n",
      "+------+\n",
      "\n"
     ]
    }
   ],
   "source": [
    "# Randomly selecting 10 products from their puschasing history and plyaing ads for the same.\n",
    "filteredUserDataDF.select(\"itemid\").dropDuplicates().sample(fraction=0.1).limit(10).show()"
   ]
  },
  {
   "cell_type": "markdown",
   "id": "d5063186-aaa6-481d-b8d4-04003e5bc721",
   "metadata": {},
   "source": [
    "# Items frequenty bought together"
   ]
  },
  {
   "cell_type": "code",
   "execution_count": 26,
   "id": "5b75cb2a-3f53-4b65-b4c5-306875838bc9",
   "metadata": {},
   "outputs": [],
   "source": [
    "# Select User to recommend the prodcuts \n",
    "visitorid = 152963\n",
    "customerCurrentlyViewingItem = 119736"
   ]
  },
  {
   "cell_type": "code",
   "execution_count": 29,
   "id": "f15a8377-d3ca-49ea-8a10-37a13574b297",
   "metadata": {},
   "outputs": [
    {
     "name": "stdout",
     "output_type": "stream",
     "text": [
      "+-------------+---------+-----------+------+-------------+\n",
      "|timestamp    |visitorid|event      |itemid|transactionid|\n",
      "+-------------+---------+-----------+------+-------------+\n",
      "|1433185467024|1161163  |transaction|119736|118          |\n",
      "|1433377677494|438441   |transaction|119736|8568         |\n",
      "|1433382787152|438441   |transaction|119736|2787         |\n",
      "|1433455473821|1093035  |transaction|119736|15356        |\n",
      "|1433438926327|438441   |transaction|119736|375          |\n",
      "|1433518030494|1161163  |transaction|119736|3620         |\n",
      "|1433522055496|138131   |transaction|119736|4440         |\n",
      "|1433549771403|1161163  |transaction|119736|1178         |\n",
      "|1433703973431|892355   |transaction|119736|10582        |\n",
      "|1433799620641|1093035  |transaction|119736|6736         |\n",
      "+-------------+---------+-----------+------+-------------+\n",
      "only showing top 10 rows\n",
      "\n"
     ]
    }
   ],
   "source": [
    "# Filtering the users who bought the same item\n",
    "coustomerBoughtSameProductDF = events_df.filter(\n",
    "    col(\"transactionid\").isNotNull()\n",
    ").filter(\n",
    "    col(\"itemId\") == customerCurrentlyViewingItem\n",
    ")\n",
    "coustomerBoughtSameProductDF.show(10, False)"
   ]
  },
  {
   "cell_type": "code",
   "execution_count": 37,
   "id": "cb148482-2efd-44f4-9620-a93ff461d443",
   "metadata": {},
   "outputs": [
    {
     "name": "stderr",
     "output_type": "stream",
     "text": [
      "[Stage 63:=====================>                                  (6 + 10) / 16]\r"
     ]
    },
    {
     "name": "stdout",
     "output_type": "stream",
     "text": [
      "+------+\n",
      "|itemId|\n",
      "+------+\n",
      "|227161|\n",
      "|354173|\n",
      "|310514|\n",
      "|424293|\n",
      "|  8638|\n",
      "|208595|\n",
      "| 11316|\n",
      "|296211|\n",
      "|209734|\n",
      "|152836|\n",
      "+------+\n",
      "only showing top 10 rows\n",
      "\n"
     ]
    },
    {
     "name": "stderr",
     "output_type": "stream",
     "text": [
      "                                                                                \r"
     ]
    }
   ],
   "source": [
    "# selecting other products which is purchased with currently viewing item\n",
    "coProductsWithCurrentlyViewingDF = coustomerBoughtSameProductDF.alias(\"a\").join(\n",
    "    events_df.alias(\"b\"),\n",
    "    on=\"visitorid\",\n",
    "    how=\"inner\"\n",
    ").select(\n",
    "    col(\"b.itemId\")\n",
    "    \n",
    ").dropDuplicates()\n",
    "coProductsWithCurrentlyViewingDF.show(10)"
   ]
  },
  {
   "cell_type": "markdown",
   "id": "a70b9b31-014d-4fb3-ad3a-52f5004c81be",
   "metadata": {},
   "source": [
    "# So now we can present to the visitor a list of the other items a customer previously bought along with what item the current visitor is viewing e.g. item number 119736"
   ]
  },
  {
   "cell_type": "code",
   "execution_count": 38,
   "id": "2aeaf2b8-55e1-409c-89eb-7f38cb40d348",
   "metadata": {},
   "outputs": [
    {
     "name": "stderr",
     "output_type": "stream",
     "text": [
      "[Stage 75:===>                                                    (1 + 16) / 17]\r"
     ]
    },
    {
     "name": "stdout",
     "output_type": "stream",
     "text": [
      "+------+\n",
      "|itemId|\n",
      "+------+\n",
      "|227161|\n",
      "|354173|\n",
      "|310514|\n",
      "|424293|\n",
      "|8638  |\n",
      "|208595|\n",
      "|11316 |\n",
      "|296211|\n",
      "|209734|\n",
      "|152836|\n",
      "+------+\n",
      "only showing top 10 rows\n",
      "\n"
     ]
    },
    {
     "name": "stderr",
     "output_type": "stream",
     "text": [
      "                                                                                \r"
     ]
    }
   ],
   "source": [
    "# Removing the current viewing item \n",
    "coProductsOnlyDF = coProductsWithCurrentlyViewingDF.filter(\n",
    "    col(\"itemId\") != customerCurrentlyViewingItem\n",
    ")\n",
    "coProductsOnlyDF.show(10, False)"
   ]
  },
  {
   "cell_type": "markdown",
   "id": "f188eda4-497a-432a-9055-206a42d7fe74",
   "metadata": {},
   "source": [
    "# --------------------------------**--------------------------------"
   ]
  },
  {
   "cell_type": "markdown",
   "id": "e13f825d-dba6-4574-858e-d017ff7764d5",
   "metadata": {},
   "source": [
    "\n",
    "# Items frequenty viwed together"
   ]
  },
  {
   "cell_type": "code",
   "execution_count": 5,
   "id": "fe3a2584-4325-4af9-b2cc-fd87733ba5aa",
   "metadata": {},
   "outputs": [],
   "source": [
    "# Select User to recommend the prodcuts \n",
    "visitorid = 152963\n",
    "customerCurrentlyViewingItem = 119736"
   ]
  },
  {
   "cell_type": "code",
   "execution_count": 7,
   "id": "bb54511d-a59c-45ae-8736-09dd4b90991e",
   "metadata": {},
   "outputs": [
    {
     "name": "stdout",
     "output_type": "stream",
     "text": [
      "+-------------+---------+-----+------+-------------+\n",
      "|timestamp    |visitorid|event|itemid|transactionid|\n",
      "+-------------+---------+-----+------+-------------+\n",
      "|1433177781018|286616   |view |119736|null         |\n",
      "|1433220222122|163253   |view |119736|null         |\n",
      "|1433181192471|286616   |view |119736|null         |\n",
      "|1433178692996|350566   |view |119736|null         |\n",
      "|1433275279545|163561   |view |119736|null         |\n",
      "|1433263385707|286616   |view |119736|null         |\n",
      "|1433285028681|163561   |view |119736|null         |\n",
      "|1433273140155|286616   |view |119736|null         |\n",
      "|1433259935129|286616   |view |119736|null         |\n",
      "|1433295027862|163561   |view |119736|null         |\n",
      "+-------------+---------+-----+------+-------------+\n",
      "only showing top 10 rows\n",
      "\n"
     ]
    }
   ],
   "source": [
    "# Filtering the users who viewed the same item\n",
    "coustomerViewdSameProductDF = events_df.filter(\n",
    "    col(\"event\") == 'view'\n",
    ").filter(\n",
    "    col(\"itemId\") == customerCurrentlyViewingItem\n",
    ")\n",
    "coustomerViewdSameProductDF.show(10, False)"
   ]
  },
  {
   "cell_type": "code",
   "execution_count": 8,
   "id": "0b2e776a-41aa-4136-ac1d-c4b72343f040",
   "metadata": {},
   "outputs": [
    {
     "name": "stderr",
     "output_type": "stream",
     "text": [
      "[Stage 14:>                                                       (0 + 16) / 16]\r"
     ]
    },
    {
     "name": "stdout",
     "output_type": "stream",
     "text": [
      "+------+\n",
      "|itemId|\n",
      "+------+\n",
      "|225877|\n",
      "|  2142|\n",
      "|446934|\n",
      "|188718|\n",
      "|429449|\n",
      "|  9376|\n",
      "|393144|\n",
      "|409910|\n",
      "|287568|\n",
      "| 28170|\n",
      "+------+\n",
      "only showing top 10 rows\n",
      "\n"
     ]
    },
    {
     "name": "stderr",
     "output_type": "stream",
     "text": [
      "                                                                                \r"
     ]
    }
   ],
   "source": [
    "# selecting other products which is viewed with currently viewing item\n",
    "coProductsWithCurrentlyViewingDF = coustomerViewdSameProductDF.alias(\"a\").join(\n",
    "    events_df.alias(\"b\"),\n",
    "    on=\"visitorid\",\n",
    "    how=\"inner\"\n",
    ").select(\n",
    "    col(\"b.itemId\")\n",
    "    \n",
    ").dropDuplicates()\n",
    "coProductsWithCurrentlyViewingDF.show(10)"
   ]
  },
  {
   "cell_type": "markdown",
   "id": "f48a338f-8a38-4308-b2a0-7c9424316b69",
   "metadata": {},
   "source": [
    "# So now we can present to the visitor a list of the other items a customer previously viewd along with what item the current visitor is viewing e.g. item number 119736"
   ]
  },
  {
   "cell_type": "code",
   "execution_count": 9,
   "id": "10fe1690-b591-4fb0-ab0c-2266e46a80d6",
   "metadata": {},
   "outputs": [
    {
     "name": "stderr",
     "output_type": "stream",
     "text": [
      "                                                                                \r"
     ]
    },
    {
     "name": "stdout",
     "output_type": "stream",
     "text": [
      "+------+\n",
      "|itemId|\n",
      "+------+\n",
      "|225877|\n",
      "|2142  |\n",
      "|446934|\n",
      "|188718|\n",
      "|429449|\n",
      "|9376  |\n",
      "|393144|\n",
      "|409910|\n",
      "|287568|\n",
      "|28170 |\n",
      "+------+\n",
      "only showing top 10 rows\n",
      "\n"
     ]
    }
   ],
   "source": [
    "# Removing the current viewing item \n",
    "coProductsOnlyDF = coProductsWithCurrentlyViewingDF.filter(\n",
    "    col(\"itemId\") != customerCurrentlyViewingItem\n",
    ")\n",
    "coProductsOnlyDF.show(10, False)"
   ]
  },
  {
   "cell_type": "markdown",
   "id": "9bdbb591-ed73-44f3-84c6-f715a1d9630e",
   "metadata": {},
   "source": [
    " \n",
    "# --------------------------------**--------------------------------"
   ]
  },
  {
   "cell_type": "markdown",
   "id": "ffad1c47-880b-4a54-aa3e-b24833f88bb6",
   "metadata": {},
   "source": [
    "# Card Based recommendations:\n",
    "  \n",
    " ## Will be implimented following the techinical flow of the walmart app. Example the number of items recommended, the call to the specific API to build the data displayed in the card, the card formating, etc.\n",
    " \n",
    "# --------------------------------**--------------------------------"
   ]
  },
  {
   "cell_type": "markdown",
   "id": "371a90f9-e45e-46c0-8c1c-78c033965ea1",
   "metadata": {},
   "source": [
    "# Popular viewed items:\n",
    "\n",
    "## In future ,We will be suggesting further promotions and offers based on the views received from users on specific products\n",
    "\n",
    "# --------------------------------**--------------------------------"
   ]
  },
  {
   "cell_type": "markdown",
   "id": "6f81941b-759b-4eaa-8908-32d9a9149b1f",
   "metadata": {},
   "source": [
    "# Best seller recomendation:\n",
    "\n",
    "## In future ,We will be suggesting further promotions and offers based on the most selling products as per the interests received from multiple users\n",
    "\n",
    "# --------------------------------**--------------------------------"
   ]
  },
  {
   "cell_type": "markdown",
   "id": "eca2ae81-408c-4bd2-b9c0-e4b9ad83607e",
   "metadata": {},
   "source": [
    "# Targetting Ads:\n",
    "## We can send recommendations based on and in correlation with marketing ads and promotions.\n",
    "\n",
    "# --------------------------------**--------------------------------"
   ]
  },
  {
   "cell_type": "markdown",
   "id": "217ff69a-43c2-4f9f-a373-de4a2f6de9e9",
   "metadata": {},
   "source": [
    "# Special Events:\n",
    "## We can send recommendations on special events such as holidays or regional festivals.\n",
    "\n",
    "# --------------------------------End--------------------------------"
   ]
  },
  {
   "cell_type": "code",
   "execution_count": null,
   "id": "72c05181-ed5e-466c-abf1-e24be6ef0c05",
   "metadata": {},
   "outputs": [],
   "source": []
  }
 ],
 "metadata": {
  "kernelspec": {
   "display_name": "Python 3 (ipykernel)",
   "language": "python",
   "name": "python3"
  },
  "language_info": {
   "codemirror_mode": {
    "name": "ipython",
    "version": 3
   },
   "file_extension": ".py",
   "mimetype": "text/x-python",
   "name": "python",
   "nbconvert_exporter": "python",
   "pygments_lexer": "ipython3",
   "version": "3.8.2"
  }
 },
 "nbformat": 4,
 "nbformat_minor": 5
}
